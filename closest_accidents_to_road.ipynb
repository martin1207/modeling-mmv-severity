{
 "cells": [
  {
   "cell_type": "code",
   "execution_count": 1,
   "metadata": {},
   "outputs": [],
   "source": [
    "import pandas as pd\n",
    "import geopandas as gpd\n",
    "import numpy as np\n",
    "from shapely.geometry import Point, LineString\n",
    "import difflib"
   ]
  },
  {
   "cell_type": "markdown",
   "metadata": {},
   "source": [
    "## Lyon"
   ]
  },
  {
   "cell_type": "code",
   "execution_count": 2,
   "metadata": {},
   "outputs": [],
   "source": [
    "accidents_lyon=gpd.read_file('data_lyon.gpkg')\n",
    "accidents_lyon=accidents_lyon[['Num_Acc_x','int','geometry','adr']].drop_duplicates('Num_Acc_x')"
   ]
  },
  {
   "cell_type": "code",
   "execution_count": 3,
   "metadata": {},
   "outputs": [],
   "source": [
    "chaussees=gpd.read_file('lyon_network.gpkg')"
   ]
  },
  {
   "cell_type": "code",
   "execution_count": 4,
   "metadata": {},
   "outputs": [],
   "source": [
    "accidents_lyon=accidents_lyon.to_crs(chaussees.crs)\n",
    "distances = accidents_lyon.geometry.apply(lambda point: chaussees.distance(point))\n",
    "dist_transpose=np.transpose(distances)"
   ]
  },
  {
   "cell_type": "code",
   "execution_count": 5,
   "metadata": {},
   "outputs": [],
   "source": [
    "nearest_indices = dist_transpose.apply(lambda dist: dist.idxmin())\n",
    "\n",
    "# Assign attributes of nearest features to accident points\n",
    "nearest_features = chaussees.iloc[nearest_indices]  # Flatten indices to 1D array for indexing\n",
    "nearest_features_reset  = nearest_features.reset_index(drop=True)\n",
    "\n",
    "nearest_features = nearest_features.drop(columns='geometry')\n",
    "\n",
    "accidents_lyon = pd.concat([accidents_lyon.reset_index(drop=True), nearest_features.reset_index(drop=True)], axis=1)\n"
   ]
  },
  {
   "cell_type": "code",
   "execution_count": 7,
   "metadata": {},
   "outputs": [],
   "source": [
    "streets=gpd.read_file('streets_lyon.geojson')\n",
    "streets=streets[['highway','geometry']]\n",
    "streets.to_crs(chaussees.crs, inplace=True)"
   ]
  },
  {
   "cell_type": "code",
   "execution_count": 8,
   "metadata": {},
   "outputs": [],
   "source": [
    "distances_lyonstreet = accidents_lyon.geometry.apply(lambda point: streets.distance(point))\n",
    "dist_transpose=np.transpose(distances_lyonstreet)\n"
   ]
  },
  {
   "cell_type": "code",
   "execution_count": 9,
   "metadata": {},
   "outputs": [],
   "source": [
    "dist_transpose=np.transpose(distances_lyonstreet)\n"
   ]
  },
  {
   "cell_type": "code",
   "execution_count": 10,
   "metadata": {},
   "outputs": [],
   "source": [
    "nearest_indices = dist_transpose.apply(lambda dist: dist.idxmin())\n",
    "\n",
    "# Assign attributes of nearest features to accident points\n",
    "nearest_features = streets.iloc[nearest_indices]  # Flatten indices to 1D array for indexing\n",
    "nearest_features_reset  = nearest_features.reset_index(drop=True)\n",
    "\n",
    "nearest_features = nearest_features.drop(columns='geometry')\n",
    "\n",
    "accidents_lyon = pd.concat([accidents_lyon.reset_index(drop=True), nearest_features.reset_index(drop=True)], axis=1)"
   ]
  },
  {
   "cell_type": "markdown",
   "metadata": {},
   "source": [
    "## Paris"
   ]
  },
  {
   "cell_type": "code",
   "execution_count": 11,
   "metadata": {},
   "outputs": [],
   "source": [
    "accidents_paris=gpd.read_file('data_paris.gpkg')\n",
    "accidents_paris=accidents_paris[['Num_Acc_x','int','geometry']].drop_duplicates('Num_Acc_x')\n"
   ]
  },
  {
   "cell_type": "code",
   "execution_count": 12,
   "metadata": {},
   "outputs": [],
   "source": [
    "reseau_cyclable=gpd.read_file('amenagements-velo-en-ile-de-france.geojson').to_crs('EPSG:2154')"
   ]
  },
  {
   "cell_type": "code",
   "execution_count": 13,
   "metadata": {},
   "outputs": [
    {
     "name": "stderr",
     "output_type": "stream",
     "text": [
      "Skipping field reg_code: unsupported OGR type: 5\n",
      "Skipping field reg_name: unsupported OGR type: 5\n",
      "Skipping field dep_code: unsupported OGR type: 5\n",
      "Skipping field dep_name: unsupported OGR type: 5\n",
      "Skipping field epci_code: unsupported OGR type: 5\n",
      "Skipping field epci_curren: unsupported OGR type: 5\n",
      "Skipping field epci_name: unsupported OGR type: 5\n"
     ]
    }
   ],
   "source": [
    "paris=gpd.read_file('paris.geojson').to_crs('EPSG:2154')"
   ]
  },
  {
   "cell_type": "code",
   "execution_count": 14,
   "metadata": {},
   "outputs": [],
   "source": [
    "reseau_cyclable_paris=gpd.sjoin(reseau_cyclable,paris[['geometry','epci_name_u']])"
   ]
  },
  {
   "cell_type": "code",
   "execution_count": 15,
   "metadata": {},
   "outputs": [],
   "source": [
    "accidents_paris.to_crs('EPSG:3035',inplace=True)\n",
    "reseau_cyclable_paris.to_crs('EPSG:3035',inplace=True)"
   ]
  },
  {
   "cell_type": "code",
   "execution_count": 16,
   "metadata": {},
   "outputs": [
    {
     "name": "stderr",
     "output_type": "stream",
     "text": [
      "/opt/anaconda3/envs/tfe/lib/python3.13/site-packages/shapely/measurement.py:72: RuntimeWarning: invalid value encountered in distance\n",
      "  return lib.distance(a, b, **kwargs)\n"
     ]
    }
   ],
   "source": [
    "distances_paris = accidents_paris.geometry.apply(lambda point: reseau_cyclable_paris.distance(point))\n"
   ]
  },
  {
   "cell_type": "code",
   "execution_count": 17,
   "metadata": {},
   "outputs": [],
   "source": [
    "# Transpose the distances DataFrame\n",
    "dist_transpose_paris = np.transpose(distances_paris)\n",
    "\n",
    "# Find the index of the nearest cycling path for each accident point\n",
    "nearest_indices = dist_transpose_paris.apply(lambda dist: dist.idxmin())\n"
   ]
  },
  {
   "cell_type": "code",
   "execution_count": 18,
   "metadata": {},
   "outputs": [],
   "source": [
    "# Extract the attributes of the nearest cycling paths\n",
    "nearest_features = reseau_cyclable.iloc[nearest_indices]\n"
   ]
  },
  {
   "cell_type": "code",
   "execution_count": 19,
   "metadata": {},
   "outputs": [],
   "source": [
    "# Reset the index of nearest_features to align with the indices of accident_sur_piste\n",
    "nearest_features_reset = nearest_features.reset_index(drop=True)\n",
    "\n",
    "nearest_features = nearest_features.drop(columns='geometry')\n"
   ]
  },
  {
   "cell_type": "code",
   "execution_count": 20,
   "metadata": {},
   "outputs": [],
   "source": [
    "# Assign the nearest cycling path ID to each accident point\n",
    "accidents_paris = pd.concat([accidents_paris.reset_index(drop=True), nearest_features.reset_index(drop=True)], axis=1)"
   ]
  },
  {
   "cell_type": "code",
   "execution_count": 21,
   "metadata": {},
   "outputs": [],
   "source": [
    "reseau_cyclable_paris.to_crs('EPSG:4326').to_file('reseau_cyclable_paris.geojson')"
   ]
  },
  {
   "cell_type": "markdown",
   "metadata": {},
   "source": [
    "# Intersections"
   ]
  },
  {
   "cell_type": "code",
   "execution_count": 22,
   "metadata": {},
   "outputs": [],
   "source": [
    "accidents_lyon=accidents_lyon.to_crs('EPSG:3035')"
   ]
  },
  {
   "cell_type": "code",
   "execution_count": 23,
   "metadata": {},
   "outputs": [],
   "source": [
    "acc_lyon_int=accidents_lyon.loc[(accidents_lyon['int']==2) | (accidents_lyon['int']== 3) | (accidents_lyon['int']==4) | (accidents_lyon['int']==5) ].drop_duplicates('Num_Acc_x')"
   ]
  },
  {
   "cell_type": "code",
   "execution_count": 24,
   "metadata": {},
   "outputs": [],
   "source": [
    "acc_lyon_buffered = acc_lyon_int.to_crs('EPSG:3035').buffer(25)\n",
    "\n",
    "acc_lyon_buffered_gdf = gpd.GeoDataFrame(acc_lyon_int,geometry=acc_lyon_buffered, crs='EPSG:3035')"
   ]
  },
  {
   "cell_type": "code",
   "execution_count": 25,
   "metadata": {},
   "outputs": [
    {
     "name": "stderr",
     "output_type": "stream",
     "text": [
      "/opt/anaconda3/envs/tfe/lib/python3.13/site-packages/pyogrio/raw.py:198: RuntimeWarning: driver GeoJSON does not support open option CRS\n",
      "  return ogr_read(\n",
      "/opt/anaconda3/envs/tfe/lib/python3.13/site-packages/pyogrio/raw.py:198: RuntimeWarning: driver GPKG does not support open option CRS\n",
      "  return ogr_read(\n",
      "/opt/anaconda3/envs/tfe/lib/python3.13/site-packages/pyogrio/raw.py:198: RuntimeWarning: driver GeoJSON does not support open option CRS\n",
      "  return ogr_read(\n"
     ]
    }
   ],
   "source": [
    "lyon_traffic_signals=gpd.read_file('traffic_signals.geojson',crs='EPSG:3035')\n",
    "lyon_give_way=gpd.read_file('lyon_give_way.gpkg',crs='EPSG:3035')\n",
    "lyon_stops=gpd.read_file('stops.geojson',crs='EPSG:3035')"
   ]
  },
  {
   "cell_type": "code",
   "execution_count": 26,
   "metadata": {},
   "outputs": [],
   "source": [
    "acc_paris_int=accidents_paris.loc[(accidents_paris['int']==2) | (accidents_paris['int']== 3) | (accidents_paris['int']==4) | (accidents_paris['int']==5)].drop_duplicates('Num_Acc_x')"
   ]
  },
  {
   "cell_type": "code",
   "execution_count": 27,
   "metadata": {},
   "outputs": [],
   "source": [
    "paris_stops=gpd.read_file('paris_stops.gpkg').to_crs('EPSG:3035')\n",
    "paris_give_way=gpd.read_file('paris_give_way.gpkg').to_crs('EPSG:3035')\n",
    "paris_traffic_lights=gpd.read_file('paris_traffic_signals.gpkg').to_crs('EPSG:3035')"
   ]
  },
  {
   "cell_type": "code",
   "execution_count": 28,
   "metadata": {},
   "outputs": [],
   "source": [
    "acc_buffered = acc_paris_int.to_crs('EPSG:3035').buffer(25)\n",
    "\n",
    "acc_buffered_gdf = gpd.GeoDataFrame(acc_paris_int,geometry=acc_buffered, crs='EPSG:3035')"
   ]
  },
  {
   "cell_type": "code",
   "execution_count": 29,
   "metadata": {},
   "outputs": [],
   "source": [
    "# Perform spatial join\n",
    "acc_with_stops = gpd.sjoin(acc_lyon_buffered_gdf.drop_duplicates('Num_Acc_x'), lyon_stops.to_crs('EPSG:3035'))\n",
    "# Create 'signalized' column and fill with 'yes' or 'no' based on the result of the spatial join\n",
    "# Créer une colonne 'signalized' dans la GeoDataFrame intersections et assigner 'no' par défaut\n",
    "acc_lyon_int['stops'] = 'no'\n",
    "\n",
    "# Identifier les intersections avec des signaux et mettre à jour la colonne 'signalized'\n",
    "acc_lyon_int.loc[acc_lyon_int['Num_Acc_x'].isin(acc_with_stops['Num_Acc_x']), 'stops'] = 'yes'"
   ]
  },
  {
   "cell_type": "code",
   "execution_count": 30,
   "metadata": {},
   "outputs": [],
   "source": [
    "# Perform spatial join\n",
    "acc_with_stops = gpd.sjoin(acc_buffered_gdf.drop_duplicates('Num_Acc_x'), paris_stops.to_crs('EPSG:3035'))\n",
    "# Create 'signalized' column and fill with 'yes' or 'no' based on the result of the spatial join\n",
    "# Créer une colonne 'signalized' dans la GeoDataFrame intersections et assigner 'no' par défaut\n",
    "acc_paris_int['stops'] = 'no'\n",
    "\n",
    "# Identifier les intersections avec des signaux et mettre à jour la colonne 'signalized'\n",
    "acc_paris_int.loc[acc_paris_int['Num_Acc_x'].isin(acc_with_stops['Num_Acc_x']), 'stops'] = 'yes'"
   ]
  },
  {
   "cell_type": "code",
   "execution_count": 31,
   "metadata": {},
   "outputs": [],
   "source": [
    "# Perform spatial join\n",
    "acc_with_giveway = gpd.sjoin(acc_lyon_buffered_gdf.drop_duplicates('Num_Acc_x'), lyon_give_way.to_crs('EPSG:3035'))\n",
    "# Create 'signalized' column and fill with 'yes' or 'no' based on the result of the spatial join\n",
    "# Créer une colonne 'signalized' dans la GeoDataFrame intersections et assigner 'no' par défaut\n",
    "acc_lyon_int['give_way'] = 'no'\n",
    "\n",
    "# Identifier les intersections avec des signaux et mettre à jour la colonne 'signalized'\n",
    "acc_lyon_int.loc[acc_lyon_int['Num_Acc_x'].isin(acc_with_giveway['Num_Acc_x']), 'give_way'] = 'yes'"
   ]
  },
  {
   "cell_type": "code",
   "execution_count": 32,
   "metadata": {},
   "outputs": [],
   "source": [
    "# Perform spatial join\n",
    "acc_with_giveway = gpd.sjoin(acc_buffered_gdf.drop_duplicates('Num_Acc_x'), paris_give_way.to_crs('EPSG:3035'))\n",
    "# Create 'signalized' column and fill with 'yes' or 'no' based on the result of the spatial join\n",
    "# Créer une colonne 'signalized' dans la GeoDataFrame intersections et assigner 'no' par défaut\n",
    "acc_paris_int['give_way'] = 'no'\n",
    "\n",
    "# Identifier les intersections avec des signaux et mettre à jour la colonne 'signalized'\n",
    "acc_paris_int.loc[acc_paris_int['Num_Acc_x'].isin(acc_with_giveway['Num_Acc_x']), 'give_way'] = 'yes'''''''"
   ]
  },
  {
   "cell_type": "code",
   "execution_count": 33,
   "metadata": {},
   "outputs": [],
   "source": [
    "acc_with_lights = gpd.sjoin(acc_lyon_buffered_gdf.drop_duplicates('Num_Acc_x'), lyon_traffic_signals.to_crs('EPSG:3035'))\n",
    "# Create 'signalized' column and fill with 'yes' or 'no' based on the result of the spatial join\n",
    "# Créer une colonne 'signalized' dans la GeoDataFrame intersections et assigner 'no' par défaut\n",
    "acc_lyon_int['traffic_lights'] = 'no'\n",
    "\n",
    "# Identifier les intersections avec des signaux et mettre à jour la colonne 'signalized'\n",
    "acc_lyon_int.loc[acc_lyon_int['Num_Acc_x'].isin(acc_with_lights['Num_Acc_x']), 'traffic_lights'] = 'yes'"
   ]
  },
  {
   "cell_type": "code",
   "execution_count": 34,
   "metadata": {},
   "outputs": [],
   "source": [
    "# Perform spatial join\n",
    "acc_with_lights = gpd.sjoin(acc_buffered_gdf.drop_duplicates('Num_Acc_x'), paris_traffic_lights.to_crs('EPSG:3035'))\n",
    "# Create 'signalized' column and fill with 'yes' or 'no' based on the result of the spatial join\n",
    "# Créer une colonne 'signalized' dans la GeoDataFrame intersections et assigner 'no' par défaut\n",
    "acc_paris_int['traffic_lights'] = 'no'\n",
    "\n",
    "# Identifier les intersections avec des signaux et mettre à jour la colonne 'signalized'\n",
    "acc_paris_int.loc[acc_paris_int['Num_Acc_x'].isin(acc_with_lights['Num_Acc_x']), 'traffic_lights'] = 'yes'"
   ]
  },
  {
   "cell_type": "code",
   "execution_count": 35,
   "metadata": {},
   "outputs": [],
   "source": [
    "accidents_lyon=pd.merge(accidents_lyon,acc_lyon_int[['Num_Acc_x','stops','give_way','traffic_lights']].drop_duplicates('Num_Acc_x'),on='Num_Acc_x',how='left')\n",
    "accidents_paris=pd.merge(accidents_paris,acc_paris_int[['Num_Acc_x','stops','give_way','traffic_lights']].drop_duplicates('Num_Acc_x'),on='Num_Acc_x',how='left')"
   ]
  },
  {
   "cell_type": "markdown",
   "metadata": {},
   "source": [
    "## Tram tracks"
   ]
  },
  {
   "cell_type": "code",
   "execution_count": 36,
   "metadata": {},
   "outputs": [],
   "source": [
    "tram=gpd.read_file('tram_crossing.geojson')\n",
    "tram_crossing_paris=gpd.read_file('tram_crossing_paris.gpkg')\n"
   ]
  },
  {
   "cell_type": "code",
   "execution_count": 37,
   "metadata": {},
   "outputs": [],
   "source": [
    "tram=tram.to_crs('EPSG:3035')\n",
    "tram_crossing_paris=tram_crossing_paris.to_crs('EPSG:3035')"
   ]
  },
  {
   "cell_type": "code",
   "execution_count": 38,
   "metadata": {},
   "outputs": [],
   "source": [
    "tram['geometry']=tram.buffer(25)"
   ]
  },
  {
   "cell_type": "code",
   "execution_count": 39,
   "metadata": {},
   "outputs": [],
   "source": [
    "tram_crossing_paris['geometry']=tram_crossing_paris.buffer(25)"
   ]
  },
  {
   "cell_type": "code",
   "execution_count": 40,
   "metadata": {},
   "outputs": [],
   "source": [
    "accidents_lyon.to_crs('EPSG:3035',inplace=True)"
   ]
  },
  {
   "cell_type": "code",
   "execution_count": 42,
   "metadata": {},
   "outputs": [],
   "source": [
    "# Perform the spatial join\n",
    "tram = tram[['railway', 'geometry']].reset_index(drop=True)\n",
    "\n",
    "# Perform the spatial join\n",
    "sjoin_result = gpd.sjoin(accidents_lyon.drop_duplicates('Num_Acc_x'), tram)\n",
    "\n",
    "# Create a new column 'tram_crossing' and set it to 'yes' for those accidents_lyon\n",
    "\n",
    "accidents_lyon['tram_crossing']='No'\n",
    "\n",
    "accidents_lyon.loc[accidents_lyon['Num_Acc_x'].isin(sjoin_result['Num_Acc_x']), 'tram_crossing'] = 'yes'"
   ]
  },
  {
   "cell_type": "code",
   "execution_count": 43,
   "metadata": {},
   "outputs": [],
   "source": [
    "accidents_paris.to_crs('EPSG:3035',inplace=True)"
   ]
  },
  {
   "cell_type": "code",
   "execution_count": 44,
   "metadata": {},
   "outputs": [],
   "source": [
    "# Perform the spatial join\n",
    "tram_crossing_paris = tram_crossing_paris[['railway', 'geometry']].reset_index(drop=True)\n"
   ]
  },
  {
   "cell_type": "code",
   "execution_count": 46,
   "metadata": {},
   "outputs": [],
   "source": [
    "# Perform the spatial join\n",
    "sjoin_result = gpd.sjoin(accidents_paris.drop_duplicates('Num_Acc_x'), tram_crossing_paris)\n"
   ]
  },
  {
   "cell_type": "code",
   "execution_count": 47,
   "metadata": {},
   "outputs": [],
   "source": [
    "\n",
    "# Create a new column 'tram_crossing' and set it to 'yes' for those accidents_lyon\n",
    "\n",
    "accidents_paris['tram_crossing']='No'\n",
    "\n",
    "accidents_paris.loc[accidents_paris['Num_Acc_x'].isin(sjoin_result['Num_Acc_x']), 'tram_crossing'] = 'yes'"
   ]
  },
  {
   "cell_type": "code",
   "execution_count": 48,
   "metadata": {},
   "outputs": [],
   "source": [
    "tram_tracks=gpd.read_file('tram_tracks_lyon.gpkg')\n",
    "tram_tracks_paris=gpd.read_file('tram_tracks_paris.gpkg')"
   ]
  },
  {
   "cell_type": "code",
   "execution_count": 49,
   "metadata": {},
   "outputs": [],
   "source": [
    "tram_tracks=tram_tracks.to_crs(accidents_lyon.crs)\n",
    "tram_tracks['geometry']=tram_tracks.buffer(3)"
   ]
  },
  {
   "cell_type": "code",
   "execution_count": 50,
   "metadata": {},
   "outputs": [],
   "source": [
    "tram_tracks_paris=tram_tracks_paris.to_crs(accidents_paris.crs)\n",
    "tram_tracks_paris['geometry']=tram_tracks_paris.buffer(3)"
   ]
  },
  {
   "cell_type": "code",
   "execution_count": 51,
   "metadata": {},
   "outputs": [],
   "source": [
    "accidents_lyon_with_tram=gpd.sjoin(accidents_lyon.drop_duplicates('Num_Acc_x'),tram_tracks[['railway','geometry']],how='left')"
   ]
  },
  {
   "cell_type": "code",
   "execution_count": 52,
   "metadata": {},
   "outputs": [],
   "source": [
    "accidents_with_tram_paris=gpd.sjoin(accidents_paris.drop_duplicates('Num_Acc_x'),tram_tracks_paris[['railway','geometry']],how='left')"
   ]
  },
  {
   "cell_type": "code",
   "execution_count": 53,
   "metadata": {},
   "outputs": [],
   "source": [
    "# Ajouter une colonne 'tram' avec des valeurs par défaut 'No'\n",
    "accidents_lyon_with_tram['tram'] = 'No'\n",
    "\n",
    "# Définir la valeur de 'tram' à 'Tram crossing' pour les lignes où 'tram_crossing' est égal à 'yes'\n",
    "accidents_lyon_with_tram.loc[accidents_lyon_with_tram['tram_crossing'] == 'yes', 'tram'] = 'Tram crossing'\n",
    "\n",
    "# Définir la valeur de 'tram' à 'On tracks' pour les lignes où 'railway' est égal à 'tram' et 'tram_crossing' est égal à 'No'\n",
    "accidents_lyon_with_tram.loc[(accidents_lyon_with_tram['railway'] == 'tram') & (accidents_lyon_with_tram['tram_crossing'] == 'No'), 'tram'] = 'On tracks'\n"
   ]
  },
  {
   "cell_type": "code",
   "execution_count": 54,
   "metadata": {},
   "outputs": [],
   "source": [
    "# Ajouter une colonne 'tram' avec des valeurs par défaut 'No'\n",
    "accidents_with_tram_paris['tram'] = 'No'\n",
    "\n",
    "# Définir la valeur de 'tram' à 'Tram crossing' pour les lignes où 'tram_crossing' est égal à 'yes'\n",
    "accidents_with_tram_paris.loc[accidents_with_tram_paris['tram_crossing'] == 'yes', 'tram'] = 'Tram crossing'\n",
    "\n",
    "# Définir la valeur de 'tram' à 'On tracks' pour les lignes où 'railway' est égal à 'tram' et 'tram_crossing' est égal à 'No'\n",
    "accidents_with_tram_paris.loc[(accidents_with_tram_paris['railway'] == 'tram') & (accidents_with_tram_paris['tram_crossing'] == 'No'), 'tram'] = 'On tracks'"
   ]
  },
  {
   "cell_type": "code",
   "execution_count": 55,
   "metadata": {},
   "outputs": [],
   "source": [
    "accidents_lyon=pd.merge(accidents_lyon,accidents_lyon_with_tram[['Num_Acc_x','tram']].drop_duplicates('Num_Acc_x'),on='Num_Acc_x',how='left')\n",
    "accidents_paris=pd.merge(accidents_paris,accidents_with_tram_paris[['Num_Acc_x','tram']].drop_duplicates('Num_Acc_x'),on='Num_Acc_x',how='left')"
   ]
  },
  {
   "cell_type": "code",
   "execution_count": 56,
   "metadata": {},
   "outputs": [],
   "source": [
    "accidents_lyon=accidents_lyon.drop(columns='adr')"
   ]
  },
  {
   "cell_type": "code",
   "execution_count": 57,
   "metadata": {},
   "outputs": [],
   "source": [
    "accidents_lyon.to_crs('EPSG:4326').to_file('acci_lyon.geojson')"
   ]
  },
  {
   "cell_type": "code",
   "execution_count": null,
   "metadata": {},
   "outputs": [],
   "source": [
    "accidents_paris.to_crs('EPSG:4326').to_file('acci_paris.geojson')\n"
   ]
  }
 ],
 "metadata": {
  "kernelspec": {
   "display_name": "tfe",
   "language": "python",
   "name": "python3"
  },
  "language_info": {
   "codemirror_mode": {
    "name": "ipython",
    "version": 3
   },
   "file_extension": ".py",
   "mimetype": "text/x-python",
   "name": "python",
   "nbconvert_exporter": "python",
   "pygments_lexer": "ipython3",
   "version": "3.13.2"
  }
 },
 "nbformat": 4,
 "nbformat_minor": 2
}
