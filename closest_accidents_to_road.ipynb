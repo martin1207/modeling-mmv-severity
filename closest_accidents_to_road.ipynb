{
 "cells": [
  {
   "cell_type": "code",
   "execution_count": 1,
   "metadata": {},
   "outputs": [],
   "source": [
    "import pandas as pd\n",
    "import geopandas as gpd\n",
    "import numpy as np\n",
    "from shapely.geometry import Point, LineString\n",
    "import difflib"
   ]
  },
  {
   "cell_type": "markdown",
   "metadata": {},
   "source": [
    "## Lyon"
   ]
  },
  {
   "cell_type": "code",
   "execution_count": 2,
   "metadata": {},
   "outputs": [],
   "source": [
    "accidents_lyon=gpd.read_file('data_lyon.gpkg')\n",
    "accidents_lyon=accidents_lyon[['Num_Acc_x','int','geometry','adr']].drop_duplicates('Num_Acc_x')"
   ]
  },
  {
   "cell_type": "code",
   "execution_count": 3,
   "metadata": {},
   "outputs": [],
   "source": [
    "chaussees=gpd.read_file('lyon_network.gpkg')"
   ]
  },
  {
   "cell_type": "code",
   "execution_count": 4,
   "metadata": {},
   "outputs": [],
   "source": [
    "accidents_lyon=accidents_lyon.to_crs(chaussees.crs)\n",
    "distances = accidents_lyon.geometry.apply(lambda point: chaussees.distance(point))\n",
    "dist_transpose=np.transpose(distances)"
   ]
  },
  {
   "cell_type": "code",
   "execution_count": 5,
   "metadata": {},
   "outputs": [],
   "source": [
    "nearest_indices = dist_transpose.apply(lambda dist: dist.idxmin())\n",
    "\n",
    "# Assign attributes of nearest features to accident points\n",
    "nearest_features = chaussees.iloc[nearest_indices]  # Flatten indices to 1D array for indexing\n",
    "nearest_features_reset  = nearest_features.reset_index(drop=True)\n",
    "\n",
    "nearest_features = nearest_features.drop(columns='geometry')\n",
    "\n",
    "accidents_lyon = pd.concat([accidents_lyon.reset_index(drop=True), nearest_features.reset_index(drop=True)], axis=1)\n"
   ]
  },
  {
   "cell_type": "code",
   "execution_count": 7,
   "metadata": {},
   "outputs": [],
   "source": [
    "streets=gpd.read_file('streets_lyon.geojson')\n",
    "streets=streets[['highway','geometry']]\n",
    "streets.to_crs(chaussees.crs, inplace=True)"
   ]
  },
  {
   "cell_type": "code",
   "execution_count": 8,
   "metadata": {},
   "outputs": [],
   "source": [
    "distances_lyonstreet = accidents_lyon.geometry.apply(lambda point: streets.distance(point))\n",
    "dist_transpose=np.transpose(distances_lyonstreet)\n"
   ]
  },
  {
   "cell_type": "code",
   "execution_count": 9,
   "metadata": {},
   "outputs": [],
   "source": [
    "dist_transpose=np.transpose(distances_lyonstreet)\n"
   ]
  },
  {
   "cell_type": "code",
   "execution_count": 10,
   "metadata": {},
   "outputs": [],
   "source": [
    "nearest_indices = dist_transpose.apply(lambda dist: dist.idxmin())\n",
    "\n",
    "# Assign attributes of nearest features to accident points\n",
    "nearest_features = streets.iloc[nearest_indices]  # Flatten indices to 1D array for indexing\n",
    "nearest_features_reset  = nearest_features.reset_index(drop=True)\n",
    "\n",
    "nearest_features = nearest_features.drop(columns='geometry')\n",
    "\n",
    "accidents_lyon = pd.concat([accidents_lyon.reset_index(drop=True), nearest_features.reset_index(drop=True)], axis=1)"
   ]
  },
  {
   "cell_type": "markdown",
   "metadata": {},
   "source": [
    "## Paris"
   ]
  },
  {
   "cell_type": "code",
   "execution_count": 11,
   "metadata": {},
   "outputs": [],
   "source": [
    "accidents_paris=gpd.read_file('data_paris.gpkg')\n",
    "accidents_paris=accidents_paris[['Num_Acc_x','int','geometry']].drop_duplicates('Num_Acc_x')\n"
   ]
  },
  {
   "cell_type": "code",
   "execution_count": 12,
   "metadata": {},
   "outputs": [],
   "source": [
    "reseau_cyclable=gpd.read_file('amenagements-velo-en-ile-de-france.geojson').to_crs('EPSG:2154')"
   ]
  },
  {
   "cell_type": "code",
   "execution_count": 13,
   "metadata": {},
   "outputs": [
    {
     "name": "stderr",
     "output_type": "stream",
     "text": [
      "Skipping field reg_code: unsupported OGR type: 5\n",
      "Skipping field reg_name: unsupported OGR type: 5\n",
      "Skipping field dep_code: unsupported OGR type: 5\n",
      "Skipping field dep_name: unsupported OGR type: 5\n",
      "Skipping field epci_code: unsupported OGR type: 5\n",
      "Skipping field epci_curren: unsupported OGR type: 5\n",
      "Skipping field epci_name: unsupported OGR type: 5\n"
     ]
    }
   ],
   "source": [
    "paris=gpd.read_file('paris.geojson').to_crs('EPSG:2154')"
   ]
  },
  {
   "cell_type": "code",
   "execution_count": 14,
   "metadata": {},
   "outputs": [],
   "source": [
    "reseau_cyclable_paris=gpd.sjoin(reseau_cyclable,paris[['geometry','epci_name_u']])"
   ]
  },
  {
   "cell_type": "code",
   "execution_count": 15,
   "metadata": {},
   "outputs": [],
   "source": [
    "accidents_paris.to_crs('EPSG:3035',inplace=True)\n",
    "reseau_cyclable_paris.to_crs('EPSG:3035',inplace=True)"
   ]
  },
  {
   "cell_type": "code",
   "execution_count": 16,
   "metadata": {},
   "outputs": [
    {
     "name": "stderr",
     "output_type": "stream",
     "text": [
      "/opt/anaconda3/envs/tfe/lib/python3.13/site-packages/shapely/measurement.py:72: RuntimeWarning: invalid value encountered in distance\n",
      "  return lib.distance(a, b, **kwargs)\n"
     ]
    }
   ],
   "source": [
    "distances_paris = accidents_paris.geometry.apply(lambda point: reseau_cyclable_paris.distance(point))\n"
   ]
  },
  {
   "cell_type": "code",
   "execution_count": 17,
   "metadata": {},
   "outputs": [],
   "source": [
    "# Transpose the distances DataFrame\n",
    "dist_transpose_paris = np.transpose(distances_paris)\n",
    "\n",
    "# Find the index of the nearest cycling path for each accident point\n",
    "nearest_indices = dist_transpose_paris.apply(lambda dist: dist.idxmin())\n"
   ]
  },
  {
   "cell_type": "code",
   "execution_count": 18,
   "metadata": {},
   "outputs": [],
   "source": [
    "# Extract the attributes of the nearest cycling paths\n",
    "nearest_features = reseau_cyclable.iloc[nearest_indices]\n"
   ]
  },
  {
   "cell_type": "code",
   "execution_count": 19,
   "metadata": {},
   "outputs": [],
   "source": [
    "# Reset the index of nearest_features to align with the indices of accident_sur_piste\n",
    "nearest_features_reset = nearest_features.reset_index(drop=True)\n",
    "\n",
    "nearest_features = nearest_features.drop(columns='geometry')\n"
   ]
  },
  {
   "cell_type": "code",
   "execution_count": 20,
   "metadata": {},
   "outputs": [],
   "source": [
    "# Assign the nearest cycling path ID to each accident point\n",
    "accidents_paris = pd.concat([accidents_paris.reset_index(drop=True), nearest_features.reset_index(drop=True)], axis=1)"
   ]
  },
  {
   "cell_type": "code",
   "execution_count": 21,
   "metadata": {},
   "outputs": [],
   "source": [
    "reseau_cyclable_paris.to_crs('EPSG:4326').to_file('reseau_cyclable_paris.geojson')"
   ]
  },
  {
   "cell_type": "markdown",
   "metadata": {},
   "source": [
    "# Intersections"
   ]
  },
  {
   "cell_type": "code",
   "execution_count": 22,
   "metadata": {},
   "outputs": [],
   "source": [
    "accidents_lyon=accidents_lyon.to_crs('EPSG:3035')"
   ]
  },
  {
   "cell_type": "code",
   "execution_count": 23,
   "metadata": {},
   "outputs": [],
   "source": [
    "acc_lyon_int=accidents_lyon.loc[(accidents_lyon['int']==2) | (accidents_lyon['int']== 3) | (accidents_lyon['int']==4) | (accidents_lyon['int']==5) ].drop_duplicates('Num_Acc_x')"
   ]
  },
  {
   "cell_type": "code",
   "execution_count": 24,
   "metadata": {},
   "outputs": [],
   "source": [
    "acc_lyon_buffered = acc_lyon_int.to_crs('EPSG:3035').buffer(25)\n",
    "\n",
    "acc_lyon_buffered_gdf = gpd.GeoDataFrame(acc_lyon_int,geometry=acc_lyon_buffered, crs='EPSG:3035')"
   ]
  },
  {
   "cell_type": "code",
   "execution_count": 25,
   "metadata": {},
   "outputs": [
    {
     "name": "stderr",
     "output_type": "stream",
     "text": [
      "/opt/anaconda3/envs/tfe/lib/python3.13/site-packages/pyogrio/raw.py:198: RuntimeWarning: driver GeoJSON does not support open option CRS\n",
      "  return ogr_read(\n",
      "/opt/anaconda3/envs/tfe/lib/python3.13/site-packages/pyogrio/raw.py:198: RuntimeWarning: driver GPKG does not support open option CRS\n",
      "  return ogr_read(\n",
      "/opt/anaconda3/envs/tfe/lib/python3.13/site-packages/pyogrio/raw.py:198: RuntimeWarning: driver GeoJSON does not support open option CRS\n",
      "  return ogr_read(\n"
     ]
    }
   ],
   "source": [
    "lyon_traffic_signals=gpd.read_file('traffic_signals.geojson',crs='EPSG:3035')\n",
    "lyon_give_way=gpd.read_file('lyon_give_way.gpkg',crs='EPSG:3035')\n",
    "lyon_stops=gpd.read_file('stops.geojson',crs='EPSG:3035')"
   ]
  },
  {
   "cell_type": "code",
   "execution_count": 26,
   "metadata": {},
   "outputs": [],
   "source": [
    "acc_paris_int=accidents_paris.loc[(accidents_paris['int']==2) | (accidents_paris['int']== 3) | (accidents_paris['int']==4) | (accidents_paris['int']==5)].drop_duplicates('Num_Acc_x')"
   ]
  },
  {
   "cell_type": "code",
   "execution_count": 27,
   "metadata": {},
   "outputs": [],
   "source": [
    "paris_stops=gpd.read_file('paris_stops.gpkg').to_crs('EPSG:3035')\n",
    "paris_give_way=gpd.read_file('paris_give_way.gpkg').to_crs('EPSG:3035')\n",
    "paris_traffic_lights=gpd.read_file('paris_traffic_signals.gpkg').to_crs('EPSG:3035')"
   ]
  },
  {
   "cell_type": "code",
   "execution_count": 28,
   "metadata": {},
   "outputs": [],
   "source": [
    "acc_buffered = acc_paris_int.to_crs('EPSG:3035').buffer(25)\n",
    "\n",
    "acc_buffered_gdf = gpd.GeoDataFrame(acc_paris_int,geometry=acc_buffered, crs='EPSG:3035')"
   ]
  },
  {
   "cell_type": "code",
   "execution_count": 29,
   "metadata": {},
   "outputs": [],
   "source": [
    "# Perform spatial join\n",
    "acc_with_stops = gpd.sjoin(acc_lyon_buffered_gdf.drop_duplicates('Num_Acc_x'), lyon_stops.to_crs('EPSG:3035'))\n",
    "# Create 'signalized' column and fill with 'yes' or 'no' based on the result of the spatial join\n",
    "# Créer une colonne 'signalized' dans la GeoDataFrame intersections et assigner 'no' par défaut\n",
    "acc_lyon_int['stops'] = 'no'\n",
    "\n",
    "# Identifier les intersections avec des signaux et mettre à jour la colonne 'signalized'\n",
    "acc_lyon_int.loc[acc_lyon_int['Num_Acc_x'].isin(acc_with_stops['Num_Acc_x']), 'stops'] = 'yes'"
   ]
  },
  {
   "cell_type": "code",
   "execution_count": 30,
   "metadata": {},
   "outputs": [],
   "source": [
    "# Perform spatial join\n",
    "acc_with_stops = gpd.sjoin(acc_buffered_gdf.drop_duplicates('Num_Acc_x'), paris_stops.to_crs('EPSG:3035'))\n",
    "# Create 'signalized' column and fill with 'yes' or 'no' based on the result of the spatial join\n",
    "# Créer une colonne 'signalized' dans la GeoDataFrame intersections et assigner 'no' par défaut\n",
    "acc_paris_int['stops'] = 'no'\n",
    "\n",
    "# Identifier les intersections avec des signaux et mettre à jour la colonne 'signalized'\n",
    "acc_paris_int.loc[acc_paris_int['Num_Acc_x'].isin(acc_with_stops['Num_Acc_x']), 'stops'] = 'yes'"
   ]
  },
  {
   "cell_type": "code",
   "execution_count": 31,
   "metadata": {},
   "outputs": [],
   "source": [
    "# Perform spatial join\n",
    "acc_with_giveway = gpd.sjoin(acc_lyon_buffered_gdf.drop_duplicates('Num_Acc_x'), lyon_give_way.to_crs('EPSG:3035'))\n",
    "# Create 'signalized' column and fill with 'yes' or 'no' based on the result of the spatial join\n",
    "# Créer une colonne 'signalized' dans la GeoDataFrame intersections et assigner 'no' par défaut\n",
    "acc_lyon_int['give_way'] = 'no'\n",
    "\n",
    "# Identifier les intersections avec des signaux et mettre à jour la colonne 'signalized'\n",
    "acc_lyon_int.loc[acc_lyon_int['Num_Acc_x'].isin(acc_with_giveway['Num_Acc_x']), 'give_way'] = 'yes'"
   ]
  },
  {
   "cell_type": "code",
   "execution_count": 32,
   "metadata": {},
   "outputs": [],
   "source": [
    "# Perform spatial join\n",
    "acc_with_giveway = gpd.sjoin(acc_buffered_gdf.drop_duplicates('Num_Acc_x'), paris_give_way.to_crs('EPSG:3035'))\n",
    "# Create 'signalized' column and fill with 'yes' or 'no' based on the result of the spatial join\n",
    "# Créer une colonne 'signalized' dans la GeoDataFrame intersections et assigner 'no' par défaut\n",
    "acc_paris_int['give_way'] = 'no'\n",
    "\n",
    "# Identifier les intersections avec des signaux et mettre à jour la colonne 'signalized'\n",
    "acc_paris_int.loc[acc_paris_int['Num_Acc_x'].isin(acc_with_giveway['Num_Acc_x']), 'give_way'] = 'yes'''''''"
   ]
  },
  {
   "cell_type": "code",
   "execution_count": 33,
   "metadata": {},
   "outputs": [],
   "source": [
    "acc_with_lights = gpd.sjoin(acc_lyon_buffered_gdf.drop_duplicates('Num_Acc_x'), lyon_traffic_signals.to_crs('EPSG:3035'))\n",
    "# Create 'signalized' column and fill with 'yes' or 'no' based on the result of the spatial join\n",
    "# Créer une colonne 'signalized' dans la GeoDataFrame intersections et assigner 'no' par défaut\n",
    "acc_lyon_int['traffic_lights'] = 'no'\n",
    "\n",
    "# Identifier les intersections avec des signaux et mettre à jour la colonne 'signalized'\n",
    "acc_lyon_int.loc[acc_lyon_int['Num_Acc_x'].isin(acc_with_lights['Num_Acc_x']), 'traffic_lights'] = 'yes'"
   ]
  },
  {
   "cell_type": "code",
   "execution_count": 34,
   "metadata": {},
   "outputs": [],
   "source": [
    "# Perform spatial join\n",
    "acc_with_lights = gpd.sjoin(acc_buffered_gdf.drop_duplicates('Num_Acc_x'), paris_traffic_lights.to_crs('EPSG:3035'))\n",
    "# Create 'signalized' column and fill with 'yes' or 'no' based on the result of the spatial join\n",
    "# Créer une colonne 'signalized' dans la GeoDataFrame intersections et assigner 'no' par défaut\n",
    "acc_paris_int['traffic_lights'] = 'no'\n",
    "\n",
    "# Identifier les intersections avec des signaux et mettre à jour la colonne 'signalized'\n",
    "acc_paris_int.loc[acc_paris_int['Num_Acc_x'].isin(acc_with_lights['Num_Acc_x']), 'traffic_lights'] = 'yes'"
   ]
  },
  {
   "cell_type": "code",
   "execution_count": 35,
   "metadata": {},
   "outputs": [],
   "source": [
    "accidents_lyon=pd.merge(accidents_lyon,acc_lyon_int[['Num_Acc_x','stops','give_way','traffic_lights']].drop_duplicates('Num_Acc_x'),on='Num_Acc_x',how='left')\n",
    "accidents_paris=pd.merge(accidents_paris,acc_paris_int[['Num_Acc_x','stops','give_way','traffic_lights']].drop_duplicates('Num_Acc_x'),on='Num_Acc_x',how='left')"
   ]
  },
  {
   "cell_type": "markdown",
   "metadata": {},
   "source": [
    "## Tram tracks"
   ]
  },
  {
   "cell_type": "code",
   "execution_count": 36,
   "metadata": {},
   "outputs": [],
   "source": [
    "tram=gpd.read_file('tram_crossing.geojson')\n",
    "tram_crossing_paris=gpd.read_file('tram_crossing_paris.gpkg')\n"
   ]
  },
  {
   "cell_type": "code",
   "execution_count": 37,
   "metadata": {},
   "outputs": [],
   "source": [
    "tram=tram.to_crs('EPSG:3035')\n",
    "tram_crossing_paris=tram_crossing_paris.to_crs('EPSG:3035')"
   ]
  },
  {
   "cell_type": "code",
   "execution_count": 38,
   "metadata": {},
   "outputs": [],
   "source": [
    "tram['geometry']=tram.buffer(25)"
   ]
  },
  {
   "cell_type": "code",
   "execution_count": 39,
   "metadata": {},
   "outputs": [],
   "source": [
    "tram_crossing_paris['geometry']=tram_crossing_paris.buffer(25)"
   ]
  },
  {
   "cell_type": "code",
   "execution_count": 40,
   "metadata": {},
   "outputs": [],
   "source": [
    "accidents_lyon.to_crs('EPSG:3035',inplace=True)"
   ]
  },
  {
   "cell_type": "code",
   "execution_count": 42,
   "metadata": {},
   "outputs": [],
   "source": [
    "# Perform the spatial join\n",
    "tram = tram[['railway', 'geometry']].reset_index(drop=True)\n",
    "\n",
    "# Perform the spatial join\n",
    "sjoin_result = gpd.sjoin(accidents_lyon.drop_duplicates('Num_Acc_x'), tram)\n",
    "\n",
    "# Create a new column 'tram_crossing' and set it to 'yes' for those accidents_lyon\n",
    "\n",
    "accidents_lyon['tram_crossing']='No'\n",
    "\n",
    "accidents_lyon.loc[accidents_lyon['Num_Acc_x'].isin(sjoin_result['Num_Acc_x']), 'tram_crossing'] = 'yes'"
   ]
  },
  {
   "cell_type": "code",
   "execution_count": 43,
   "metadata": {},
   "outputs": [],
   "source": [
    "accidents_paris.to_crs('EPSG:3035',inplace=True)"
   ]
  },
  {
   "cell_type": "code",
   "execution_count": 44,
   "metadata": {},
   "outputs": [],
   "source": [
    "# Perform the spatial join\n",
    "tram_crossing_paris = tram_crossing_paris[['railway', 'geometry']].reset_index(drop=True)\n"
   ]
  },
  {
   "cell_type": "code",
   "execution_count": 46,
   "metadata": {},
   "outputs": [],
   "source": [
    "# Perform the spatial join\n",
    "sjoin_result = gpd.sjoin(accidents_paris.drop_duplicates('Num_Acc_x'), tram_crossing_paris)\n"
   ]
  },
  {
   "cell_type": "code",
   "execution_count": 47,
   "metadata": {},
   "outputs": [],
   "source": [
    "\n",
    "# Create a new column 'tram_crossing' and set it to 'yes' for those accidents_lyon\n",
    "\n",
    "accidents_paris['tram_crossing']='No'\n",
    "\n",
    "accidents_paris.loc[accidents_paris['Num_Acc_x'].isin(sjoin_result['Num_Acc_x']), 'tram_crossing'] = 'yes'"
   ]
  },
  {
   "cell_type": "code",
   "execution_count": 48,
   "metadata": {},
   "outputs": [],
   "source": [
    "tram_tracks=gpd.read_file('tram_tracks_lyon.gpkg')\n",
    "tram_tracks_paris=gpd.read_file('tram_tracks_paris.gpkg')"
   ]
  },
  {
   "cell_type": "code",
   "execution_count": 49,
   "metadata": {},
   "outputs": [],
   "source": [
    "tram_tracks=tram_tracks.to_crs(accidents_lyon.crs)\n",
    "tram_tracks['geometry']=tram_tracks.buffer(3)"
   ]
  },
  {
   "cell_type": "code",
   "execution_count": 50,
   "metadata": {},
   "outputs": [],
   "source": [
    "tram_tracks_paris=tram_tracks_paris.to_crs(accidents_paris.crs)\n",
    "tram_tracks_paris['geometry']=tram_tracks_paris.buffer(3)"
   ]
  },
  {
   "cell_type": "code",
   "execution_count": 51,
   "metadata": {},
   "outputs": [],
   "source": [
    "accidents_lyon_with_tram=gpd.sjoin(accidents_lyon.drop_duplicates('Num_Acc_x'),tram_tracks[['railway','geometry']],how='left')"
   ]
  },
  {
   "cell_type": "code",
   "execution_count": 52,
   "metadata": {},
   "outputs": [],
   "source": [
    "accidents_with_tram_paris=gpd.sjoin(accidents_paris.drop_duplicates('Num_Acc_x'),tram_tracks_paris[['railway','geometry']],how='left')"
   ]
  },
  {
   "cell_type": "code",
   "execution_count": 53,
   "metadata": {},
   "outputs": [],
   "source": [
    "# Ajouter une colonne 'tram' avec des valeurs par défaut 'No'\n",
    "accidents_lyon_with_tram['tram'] = 'No'\n",
    "\n",
    "# Définir la valeur de 'tram' à 'Tram crossing' pour les lignes où 'tram_crossing' est égal à 'yes'\n",
    "accidents_lyon_with_tram.loc[accidents_lyon_with_tram['tram_crossing'] == 'yes', 'tram'] = 'Tram crossing'\n",
    "\n",
    "# Définir la valeur de 'tram' à 'On tracks' pour les lignes où 'railway' est égal à 'tram' et 'tram_crossing' est égal à 'No'\n",
    "accidents_lyon_with_tram.loc[(accidents_lyon_with_tram['railway'] == 'tram') & (accidents_lyon_with_tram['tram_crossing'] == 'No'), 'tram'] = 'On tracks'\n"
   ]
  },
  {
   "cell_type": "code",
   "execution_count": 54,
   "metadata": {},
   "outputs": [],
   "source": [
    "# Ajouter une colonne 'tram' avec des valeurs par défaut 'No'\n",
    "accidents_with_tram_paris['tram'] = 'No'\n",
    "\n",
    "# Définir la valeur de 'tram' à 'Tram crossing' pour les lignes où 'tram_crossing' est égal à 'yes'\n",
    "accidents_with_tram_paris.loc[accidents_with_tram_paris['tram_crossing'] == 'yes', 'tram'] = 'Tram crossing'\n",
    "\n",
    "# Définir la valeur de 'tram' à 'On tracks' pour les lignes où 'railway' est égal à 'tram' et 'tram_crossing' est égal à 'No'\n",
    "accidents_with_tram_paris.loc[(accidents_with_tram_paris['railway'] == 'tram') & (accidents_with_tram_paris['tram_crossing'] == 'No'), 'tram'] = 'On tracks'"
   ]
  },
  {
   "cell_type": "code",
   "execution_count": 55,
   "metadata": {},
   "outputs": [],
   "source": [
    "accidents_lyon=pd.merge(accidents_lyon,accidents_lyon_with_tram[['Num_Acc_x','tram']].drop_duplicates('Num_Acc_x'),on='Num_Acc_x',how='left')\n",
    "accidents_paris=pd.merge(accidents_paris,accidents_with_tram_paris[['Num_Acc_x','tram']].drop_duplicates('Num_Acc_x'),on='Num_Acc_x',how='left')"
   ]
  },
  {
   "cell_type": "code",
   "execution_count": 56,
   "metadata": {},
   "outputs": [],
   "source": [
    "accidents_lyon=accidents_lyon.drop(columns='adr')"
   ]
  },
  {
   "cell_type": "code",
   "execution_count": 57,
   "metadata": {},
   "outputs": [],
   "source": [
    "accidents_lyon.to_crs('EPSG:4326').to_file('acci_lyon.geojson')"
   ]
  },
  {
   "cell_type": "code",
   "execution_count": 58,
   "metadata": {},
   "outputs": [
    {
     "data": {
      "text/html": [
       "<div>\n",
       "<style scoped>\n",
       "    .dataframe tbody tr th:only-of-type {\n",
       "        vertical-align: middle;\n",
       "    }\n",
       "\n",
       "    .dataframe tbody tr th {\n",
       "        vertical-align: top;\n",
       "    }\n",
       "\n",
       "    .dataframe thead th {\n",
       "        text-align: right;\n",
       "    }\n",
       "</style>\n",
       "<table border=\"1\" class=\"dataframe\">\n",
       "  <thead>\n",
       "    <tr style=\"text-align: right;\">\n",
       "      <th></th>\n",
       "      <th>Num_Acc_x</th>\n",
       "      <th>int</th>\n",
       "      <th>geometry</th>\n",
       "      <th>geo_shape</th>\n",
       "      <th>osm_id</th>\n",
       "      <th>highway</th>\n",
       "      <th>sens_voit</th>\n",
       "      <th>revetement</th>\n",
       "      <th>panneaux</th>\n",
       "      <th>ad</th>\n",
       "      <th>...</th>\n",
       "      <th>nom_com</th>\n",
       "      <th>nom_voie</th>\n",
       "      <th>longueur</th>\n",
       "      <th>notes</th>\n",
       "      <th>geo_point_2d</th>\n",
       "      <th>stops</th>\n",
       "      <th>give_way</th>\n",
       "      <th>traffic_lights</th>\n",
       "      <th>tram_crossing</th>\n",
       "      <th>tram</th>\n",
       "    </tr>\n",
       "  </thead>\n",
       "  <tbody>\n",
       "    <tr>\n",
       "      <th>0</th>\n",
       "      <td>2.022000e+11</td>\n",
       "      <td>1</td>\n",
       "      <td>POINT (3759067.823 2888700.648)</td>\n",
       "      <td>None</td>\n",
       "      <td>7.065802e+08</td>\n",
       "      <td>tertiary</td>\n",
       "      <td>DOUBLE</td>\n",
       "      <td>asphalt</td>\n",
       "      <td>None</td>\n",
       "      <td>None</td>\n",
       "      <td>...</td>\n",
       "      <td>6e Arrondissement</td>\n",
       "      <td>Rue de Vaugirard</td>\n",
       "      <td>283</td>\n",
       "      <td>None</td>\n",
       "      <td>{ \"lon\": 2.3298876600933141, \"lat\": 48.8479119...</td>\n",
       "      <td>NaN</td>\n",
       "      <td>NaN</td>\n",
       "      <td>NaN</td>\n",
       "      <td>No</td>\n",
       "      <td>No</td>\n",
       "    </tr>\n",
       "    <tr>\n",
       "      <th>1</th>\n",
       "      <td>2.022000e+11</td>\n",
       "      <td>2</td>\n",
       "      <td>POINT (3760055.355 2888976.434)</td>\n",
       "      <td>None</td>\n",
       "      <td>1.188654e+09</td>\n",
       "      <td>primary</td>\n",
       "      <td>UNIQUE</td>\n",
       "      <td>asphalt</td>\n",
       "      <td>None</td>\n",
       "      <td>None</td>\n",
       "      <td>...</td>\n",
       "      <td>6e Arrondissement</td>\n",
       "      <td>Boulevard Saint-Germain</td>\n",
       "      <td>28</td>\n",
       "      <td>None</td>\n",
       "      <td>{ \"lon\": 2.3433514999999998, \"lat\": 48.8513574...</td>\n",
       "      <td>no</td>\n",
       "      <td>no</td>\n",
       "      <td>yes</td>\n",
       "      <td>No</td>\n",
       "      <td>No</td>\n",
       "    </tr>\n",
       "    <tr>\n",
       "      <th>2</th>\n",
       "      <td>2.022000e+11</td>\n",
       "      <td>4</td>\n",
       "      <td>POINT (3760539.242 2885529.882)</td>\n",
       "      <td>None</td>\n",
       "      <td>1.009151e+09</td>\n",
       "      <td>cycleway</td>\n",
       "      <td>UNIQUE</td>\n",
       "      <td>asphalt</td>\n",
       "      <td>None</td>\n",
       "      <td>piste uni</td>\n",
       "      <td>...</td>\n",
       "      <td>13e Arrondissement</td>\n",
       "      <td>Boulevard Kellermann</td>\n",
       "      <td>136</td>\n",
       "      <td>None</td>\n",
       "      <td>{ \"lon\": 2.3535820335337583, \"lat\": 48.8209748...</td>\n",
       "      <td>no</td>\n",
       "      <td>no</td>\n",
       "      <td>yes</td>\n",
       "      <td>yes</td>\n",
       "      <td>Tram crossing</td>\n",
       "    </tr>\n",
       "    <tr>\n",
       "      <th>3</th>\n",
       "      <td>2.022000e+11</td>\n",
       "      <td>2</td>\n",
       "      <td>POINT (3761729.905 2889913.726)</td>\n",
       "      <td>None</td>\n",
       "      <td>4.574326e+06</td>\n",
       "      <td>residential</td>\n",
       "      <td>UNIQUE</td>\n",
       "      <td>asphalt</td>\n",
       "      <td>None</td>\n",
       "      <td>None</td>\n",
       "      <td>...</td>\n",
       "      <td>3e Arrondissement</td>\n",
       "      <td>Rue du Pont aux Choux</td>\n",
       "      <td>200</td>\n",
       "      <td>None</td>\n",
       "      <td>{ \"lon\": 2.3659287853921689, \"lat\": 48.8611371...</td>\n",
       "      <td>no</td>\n",
       "      <td>no</td>\n",
       "      <td>yes</td>\n",
       "      <td>No</td>\n",
       "      <td>No</td>\n",
       "    </tr>\n",
       "    <tr>\n",
       "      <th>4</th>\n",
       "      <td>2.022000e+11</td>\n",
       "      <td>2</td>\n",
       "      <td>POINT (3772055.727 2888554.672)</td>\n",
       "      <td>None</td>\n",
       "      <td>2.318891e+07</td>\n",
       "      <td>secondary</td>\n",
       "      <td>UNIQUE</td>\n",
       "      <td>asphalt</td>\n",
       "      <td>None</td>\n",
       "      <td>None</td>\n",
       "      <td>...</td>\n",
       "      <td>Neuilly-Plaisance</td>\n",
       "      <td>Avenue Jean Jaurès</td>\n",
       "      <td>303</td>\n",
       "      <td>None</td>\n",
       "      <td>{ \"lon\": 2.5075907267480444, \"lat\": 48.8598430...</td>\n",
       "      <td>no</td>\n",
       "      <td>no</td>\n",
       "      <td>yes</td>\n",
       "      <td>No</td>\n",
       "      <td>No</td>\n",
       "    </tr>\n",
       "    <tr>\n",
       "      <th>...</th>\n",
       "      <td>...</td>\n",
       "      <td>...</td>\n",
       "      <td>...</td>\n",
       "      <td>...</td>\n",
       "      <td>...</td>\n",
       "      <td>...</td>\n",
       "      <td>...</td>\n",
       "      <td>...</td>\n",
       "      <td>...</td>\n",
       "      <td>...</td>\n",
       "      <td>...</td>\n",
       "      <td>...</td>\n",
       "      <td>...</td>\n",
       "      <td>...</td>\n",
       "      <td>...</td>\n",
       "      <td>...</td>\n",
       "      <td>...</td>\n",
       "      <td>...</td>\n",
       "      <td>...</td>\n",
       "      <td>...</td>\n",
       "      <td>...</td>\n",
       "    </tr>\n",
       "    <tr>\n",
       "      <th>11544</th>\n",
       "      <td>2.023001e+11</td>\n",
       "      <td>1</td>\n",
       "      <td>POINT (3766711.27 2897223.94)</td>\n",
       "      <td>None</td>\n",
       "      <td>1.622913e+08</td>\n",
       "      <td>residential</td>\n",
       "      <td>UNIQUE</td>\n",
       "      <td>None</td>\n",
       "      <td>None</td>\n",
       "      <td>None</td>\n",
       "      <td>...</td>\n",
       "      <td>Le Bourget</td>\n",
       "      <td>Rue du Chevalier de La Barre</td>\n",
       "      <td>160</td>\n",
       "      <td>None</td>\n",
       "      <td>{ \"lon\": 2.4243729889224621, \"lat\": 48.9309718...</td>\n",
       "      <td>NaN</td>\n",
       "      <td>NaN</td>\n",
       "      <td>NaN</td>\n",
       "      <td>No</td>\n",
       "      <td>No</td>\n",
       "    </tr>\n",
       "    <tr>\n",
       "      <th>11545</th>\n",
       "      <td>2.023001e+11</td>\n",
       "      <td>1</td>\n",
       "      <td>POINT (3759930.382 2898354.356)</td>\n",
       "      <td>None</td>\n",
       "      <td>1.494506e+08</td>\n",
       "      <td>secondary</td>\n",
       "      <td>UNIQUE</td>\n",
       "      <td>asphalt</td>\n",
       "      <td>None</td>\n",
       "      <td>bande uni</td>\n",
       "      <td>...</td>\n",
       "      <td>Villeneuve-la-Garenne</td>\n",
       "      <td>Avenue de Verdun</td>\n",
       "      <td>173</td>\n",
       "      <td>None</td>\n",
       "      <td>{ \"lon\": 2.3276418415643096, \"lat\": 48.9349933...</td>\n",
       "      <td>NaN</td>\n",
       "      <td>NaN</td>\n",
       "      <td>NaN</td>\n",
       "      <td>No</td>\n",
       "      <td>No</td>\n",
       "    </tr>\n",
       "    <tr>\n",
       "      <th>11546</th>\n",
       "      <td>2.023001e+11</td>\n",
       "      <td>2</td>\n",
       "      <td>POINT (3754684.492 2885650.406)</td>\n",
       "      <td>None</td>\n",
       "      <td>1.465455e+08</td>\n",
       "      <td>secondary</td>\n",
       "      <td>DOUBLE</td>\n",
       "      <td>asphalt</td>\n",
       "      <td>None</td>\n",
       "      <td>bande uni</td>\n",
       "      <td>...</td>\n",
       "      <td>Issy-les-Moulineaux</td>\n",
       "      <td>Avenue de la Paix</td>\n",
       "      <td>125</td>\n",
       "      <td>None</td>\n",
       "      <td>{ \"lon\": 2.2743939268266806, \"lat\": 48.8169731...</td>\n",
       "      <td>no</td>\n",
       "      <td>no</td>\n",
       "      <td>yes</td>\n",
       "      <td>No</td>\n",
       "      <td>No</td>\n",
       "    </tr>\n",
       "    <tr>\n",
       "      <th>11547</th>\n",
       "      <td>2.023001e+11</td>\n",
       "      <td>2</td>\n",
       "      <td>POINT (3753907.83 2898125.952)</td>\n",
       "      <td>None</td>\n",
       "      <td>3.100061e+08</td>\n",
       "      <td>tertiary</td>\n",
       "      <td>DOUBLE</td>\n",
       "      <td>asphalt</td>\n",
       "      <td>None</td>\n",
       "      <td>None</td>\n",
       "      <td>...</td>\n",
       "      <td>Colombes</td>\n",
       "      <td>Rue Paul Bert</td>\n",
       "      <td>34</td>\n",
       "      <td>None</td>\n",
       "      <td>{ \"lon\": 2.2469607173214663, \"lat\": 48.9275373...</td>\n",
       "      <td>no</td>\n",
       "      <td>no</td>\n",
       "      <td>yes</td>\n",
       "      <td>No</td>\n",
       "      <td>No</td>\n",
       "    </tr>\n",
       "    <tr>\n",
       "      <th>11548</th>\n",
       "      <td>2.023001e+11</td>\n",
       "      <td>1</td>\n",
       "      <td>POINT (3756573.572 2895736.962)</td>\n",
       "      <td>None</td>\n",
       "      <td>5.607088e+07</td>\n",
       "      <td>residential</td>\n",
       "      <td>UNIQUE</td>\n",
       "      <td>asphalt</td>\n",
       "      <td>None</td>\n",
       "      <td>None</td>\n",
       "      <td>...</td>\n",
       "      <td>Asnières-sur-Seine</td>\n",
       "      <td>Rue Bapst</td>\n",
       "      <td>168</td>\n",
       "      <td>None</td>\n",
       "      <td>{ \"lon\": 2.2857582347278664, \"lat\": 48.9086301...</td>\n",
       "      <td>NaN</td>\n",
       "      <td>NaN</td>\n",
       "      <td>NaN</td>\n",
       "      <td>No</td>\n",
       "      <td>No</td>\n",
       "    </tr>\n",
       "  </tbody>\n",
       "</table>\n",
       "<p>11549 rows × 25 columns</p>\n",
       "</div>"
      ],
      "text/plain": [
       "          Num_Acc_x  int                         geometry geo_shape  \\\n",
       "0      2.022000e+11    1  POINT (3759067.823 2888700.648)      None   \n",
       "1      2.022000e+11    2  POINT (3760055.355 2888976.434)      None   \n",
       "2      2.022000e+11    4  POINT (3760539.242 2885529.882)      None   \n",
       "3      2.022000e+11    2  POINT (3761729.905 2889913.726)      None   \n",
       "4      2.022000e+11    2  POINT (3772055.727 2888554.672)      None   \n",
       "...             ...  ...                              ...       ...   \n",
       "11544  2.023001e+11    1    POINT (3766711.27 2897223.94)      None   \n",
       "11545  2.023001e+11    1  POINT (3759930.382 2898354.356)      None   \n",
       "11546  2.023001e+11    2  POINT (3754684.492 2885650.406)      None   \n",
       "11547  2.023001e+11    2   POINT (3753907.83 2898125.952)      None   \n",
       "11548  2.023001e+11    1  POINT (3756573.572 2895736.962)      None   \n",
       "\n",
       "             osm_id      highway sens_voit revetement panneaux         ad  \\\n",
       "0      7.065802e+08     tertiary    DOUBLE    asphalt     None       None   \n",
       "1      1.188654e+09      primary    UNIQUE    asphalt     None       None   \n",
       "2      1.009151e+09     cycleway    UNIQUE    asphalt     None  piste uni   \n",
       "3      4.574326e+06  residential    UNIQUE    asphalt     None       None   \n",
       "4      2.318891e+07    secondary    UNIQUE    asphalt     None       None   \n",
       "...             ...          ...       ...        ...      ...        ...   \n",
       "11544  1.622913e+08  residential    UNIQUE       None     None       None   \n",
       "11545  1.494506e+08    secondary    UNIQUE    asphalt     None  bande uni   \n",
       "11546  1.465455e+08    secondary    DOUBLE    asphalt     None  bande uni   \n",
       "11547  3.100061e+08     tertiary    DOUBLE    asphalt     None       None   \n",
       "11548  5.607088e+07  residential    UNIQUE    asphalt     None       None   \n",
       "\n",
       "       ...                nom_com                      nom_voie longueur  \\\n",
       "0      ...      6e Arrondissement              Rue de Vaugirard      283   \n",
       "1      ...      6e Arrondissement       Boulevard Saint-Germain       28   \n",
       "2      ...     13e Arrondissement          Boulevard Kellermann      136   \n",
       "3      ...      3e Arrondissement         Rue du Pont aux Choux      200   \n",
       "4      ...      Neuilly-Plaisance            Avenue Jean Jaurès      303   \n",
       "...    ...                    ...                           ...      ...   \n",
       "11544  ...             Le Bourget  Rue du Chevalier de La Barre      160   \n",
       "11545  ...  Villeneuve-la-Garenne              Avenue de Verdun      173   \n",
       "11546  ...    Issy-les-Moulineaux             Avenue de la Paix      125   \n",
       "11547  ...               Colombes                 Rue Paul Bert       34   \n",
       "11548  ...     Asnières-sur-Seine                     Rue Bapst      168   \n",
       "\n",
       "      notes                                       geo_point_2d stops give_way  \\\n",
       "0      None  { \"lon\": 2.3298876600933141, \"lat\": 48.8479119...   NaN      NaN   \n",
       "1      None  { \"lon\": 2.3433514999999998, \"lat\": 48.8513574...    no       no   \n",
       "2      None  { \"lon\": 2.3535820335337583, \"lat\": 48.8209748...    no       no   \n",
       "3      None  { \"lon\": 2.3659287853921689, \"lat\": 48.8611371...    no       no   \n",
       "4      None  { \"lon\": 2.5075907267480444, \"lat\": 48.8598430...    no       no   \n",
       "...     ...                                                ...   ...      ...   \n",
       "11544  None  { \"lon\": 2.4243729889224621, \"lat\": 48.9309718...   NaN      NaN   \n",
       "11545  None  { \"lon\": 2.3276418415643096, \"lat\": 48.9349933...   NaN      NaN   \n",
       "11546  None  { \"lon\": 2.2743939268266806, \"lat\": 48.8169731...    no       no   \n",
       "11547  None  { \"lon\": 2.2469607173214663, \"lat\": 48.9275373...    no       no   \n",
       "11548  None  { \"lon\": 2.2857582347278664, \"lat\": 48.9086301...   NaN      NaN   \n",
       "\n",
       "       traffic_lights tram_crossing           tram  \n",
       "0                 NaN            No             No  \n",
       "1                 yes            No             No  \n",
       "2                 yes           yes  Tram crossing  \n",
       "3                 yes            No             No  \n",
       "4                 yes            No             No  \n",
       "...               ...           ...            ...  \n",
       "11544             NaN            No             No  \n",
       "11545             NaN            No             No  \n",
       "11546             yes            No             No  \n",
       "11547             yes            No             No  \n",
       "11548             NaN            No             No  \n",
       "\n",
       "[11549 rows x 25 columns]"
      ]
     },
     "execution_count": 58,
     "metadata": {},
     "output_type": "execute_result"
    }
   ],
   "source": [
    "accidents_paris"
   ]
  },
  {
   "cell_type": "code",
   "execution_count": null,
   "metadata": {},
   "outputs": [],
   "source": [
    "accidents_paris.to_crs('EPSG:4326').to_file('acci_paris.geojson')\n"
   ]
  }
 ],
 "metadata": {
  "kernelspec": {
   "display_name": "tfe",
   "language": "python",
   "name": "python3"
  },
  "language_info": {
   "codemirror_mode": {
    "name": "ipython",
    "version": 3
   },
   "file_extension": ".py",
   "mimetype": "text/x-python",
   "name": "python",
   "nbconvert_exporter": "python",
   "pygments_lexer": "ipython3",
   "version": "3.13.2"
  }
 },
 "nbformat": 4,
 "nbformat_minor": 2
}
